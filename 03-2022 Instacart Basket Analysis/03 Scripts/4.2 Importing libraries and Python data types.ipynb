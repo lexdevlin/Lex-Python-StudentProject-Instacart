{
 "cells": [
  {
   "cell_type": "markdown",
   "id": "c0e64080",
   "metadata": {},
   "source": [
    "# 01. Importing libraries"
   ]
  },
  {
   "cell_type": "code",
   "execution_count": 2,
   "id": "2fa2b097",
   "metadata": {},
   "outputs": [],
   "source": [
    "# Import libraries\n",
    "import pandas as pd\n",
    "import numpy as np\n",
    "import os"
   ]
  },
  {
   "cell_type": "markdown",
   "id": "d47edc22",
   "metadata": {},
   "source": [
    "# 02. Data types"
   ]
  },
  {
   "cell_type": "code",
   "execution_count": 25,
   "id": "77432d4c",
   "metadata": {},
   "outputs": [
    {
     "data": {
      "text/plain": [
       "100"
      ]
     },
     "execution_count": 25,
     "metadata": {},
     "output_type": "execute_result"
    }
   ],
   "source": [
    "0 - 100 + 200"
   ]
  },
  {
   "cell_type": "code",
   "execution_count": 20,
   "id": "9fb868dc",
   "metadata": {},
   "outputs": [
    {
     "data": {
      "text/plain": [
       "100"
      ]
     },
     "execution_count": 20,
     "metadata": {},
     "output_type": "execute_result"
    }
   ],
   "source": [
    "500 + -400"
   ]
  },
  {
   "cell_type": "code",
   "execution_count": 24,
   "id": "e8814504",
   "metadata": {},
   "outputs": [
    {
     "data": {
      "text/plain": [
       "100"
      ]
     },
     "execution_count": 24,
     "metadata": {},
     "output_type": "execute_result"
    }
   ],
   "source": [
    "2+2+2+2+2+2+2+2+2+2+2+2+2+2+2+2+2+2+2+2+2+2+2+2+2+2+2+2+2+2+2+2+2+2+2+2+2+2+2+2+2+2+2+2+2+2+2+2+2+2"
   ]
  },
  {
   "cell_type": "code",
   "execution_count": 30,
   "id": "d919afe0",
   "metadata": {},
   "outputs": [],
   "source": [
    "hello = 3.14159"
   ]
  },
  {
   "cell_type": "code",
   "execution_count": 31,
   "id": "200d8f43",
   "metadata": {},
   "outputs": [],
   "source": [
    "world = 2.71828"
   ]
  },
  {
   "cell_type": "code",
   "execution_count": 32,
   "id": "886ad7dc",
   "metadata": {},
   "outputs": [
    {
     "data": {
      "text/plain": [
       "1.1557271509925393"
      ]
     },
     "execution_count": 32,
     "metadata": {},
     "output_type": "execute_result"
    }
   ],
   "source": [
    "hello/world"
   ]
  },
  {
   "cell_type": "code",
   "execution_count": 39,
   "id": "c621258f",
   "metadata": {},
   "outputs": [],
   "source": [
    "a = 'mit'"
   ]
  },
  {
   "cell_type": "code",
   "execution_count": 40,
   "id": "7717545c",
   "metadata": {},
   "outputs": [],
   "source": [
    "b = 'osis'"
   ]
  },
  {
   "cell_type": "code",
   "execution_count": 41,
   "id": "4e462e50",
   "metadata": {},
   "outputs": [
    {
     "data": {
      "text/plain": [
       "'mitosis'"
      ]
     },
     "execution_count": 41,
     "metadata": {},
     "output_type": "execute_result"
    }
   ],
   "source": [
    "a + b"
   ]
  },
  {
   "cell_type": "code",
   "execution_count": 42,
   "id": "9c7bc8bb",
   "metadata": {},
   "outputs": [],
   "source": [
    "x = 'Sigmund Freud '"
   ]
  },
  {
   "cell_type": "code",
   "execution_count": 43,
   "id": "b503481a",
   "metadata": {},
   "outputs": [],
   "source": [
    "y = 'smoked cigars.'"
   ]
  },
  {
   "cell_type": "code",
   "execution_count": 44,
   "id": "80739c60",
   "metadata": {},
   "outputs": [
    {
     "data": {
      "text/plain": [
       "'Sigmund Freud smoked cigars.'"
      ]
     },
     "execution_count": 44,
     "metadata": {},
     "output_type": "execute_result"
    }
   ],
   "source": [
    "x + y"
   ]
  },
  {
   "cell_type": "code",
   "execution_count": 51,
   "id": "a80c8d00",
   "metadata": {},
   "outputs": [],
   "source": [
    "one = 'It sure is great '"
   ]
  },
  {
   "cell_type": "code",
   "execution_count": 49,
   "id": "d62fd272",
   "metadata": {},
   "outputs": [],
   "source": [
    "two = 'to finally be '"
   ]
  },
  {
   "cell_type": "code",
   "execution_count": 47,
   "id": "ff250c8a",
   "metadata": {},
   "outputs": [],
   "source": [
    "three = 'learning Python.'"
   ]
  },
  {
   "cell_type": "code",
   "execution_count": 52,
   "id": "940af6c5",
   "metadata": {},
   "outputs": [
    {
     "data": {
      "text/plain": [
       "'It sure is great to finally be learning Python.'"
      ]
     },
     "execution_count": 52,
     "metadata": {},
     "output_type": "execute_result"
    }
   ],
   "source": [
    "one + two + three"
   ]
  },
  {
   "cell_type": "code",
   "execution_count": 54,
   "id": "8fa11f24",
   "metadata": {},
   "outputs": [
    {
     "data": {
      "text/plain": [
       "'spaghetti spaghetti spaghetti spaghetti spaghetti spaghetti spaghetti spaghetti spaghetti spaghetti spaghetti spaghetti spaghetti spaghetti spaghetti spaghetti spaghetti spaghetti spaghetti spaghetti spaghetti spaghetti spaghetti spaghetti spaghetti spaghetti spaghetti spaghetti spaghetti spaghetti spaghetti spaghetti spaghetti spaghetti spaghetti spaghetti spaghetti spaghetti spaghetti spaghetti spaghetti spaghetti spaghetti spaghetti spaghetti spaghetti spaghetti spaghetti spaghetti spaghetti spaghetti spaghetti spaghetti spaghetti spaghetti spaghetti spaghetti spaghetti spaghetti spaghetti spaghetti spaghetti spaghetti spaghetti spaghetti spaghetti spaghetti spaghetti spaghetti spaghetti spaghetti spaghetti spaghetti spaghetti spaghetti spaghetti spaghetti spaghetti spaghetti spaghetti spaghetti spaghetti spaghetti spaghetti spaghetti spaghetti spaghetti spaghetti spaghetti spaghetti spaghetti spaghetti spaghetti spaghetti spaghetti spaghetti spaghetti spaghetti spaghetti spaghetti '"
      ]
     },
     "execution_count": 54,
     "metadata": {},
     "output_type": "execute_result"
    }
   ],
   "source": [
    "'spaghetti '*100"
   ]
  }
 ],
 "metadata": {
  "kernelspec": {
   "display_name": "Python 3 (ipykernel)",
   "language": "python",
   "name": "python3"
  },
  "language_info": {
   "codemirror_mode": {
    "name": "ipython",
    "version": 3
   },
   "file_extension": ".py",
   "mimetype": "text/x-python",
   "name": "python",
   "nbconvert_exporter": "python",
   "pygments_lexer": "ipython3",
   "version": "3.9.7"
  }
 },
 "nbformat": 4,
 "nbformat_minor": 5
}
